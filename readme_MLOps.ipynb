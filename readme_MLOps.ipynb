{
  "cells": [
    {
      "cell_type": "markdown",
      "metadata": {
        "id": "view-in-github",
        "colab_type": "text"
      },
      "source": [
        "<a href=\"https://colab.research.google.com/github/Hyperspectral01/AzureML_Step-by-Step_Pipelining/blob/main/readme_MLOps.ipynb\" target=\"_parent\"><img src=\"https://colab.research.google.com/assets/colab-badge.svg\" alt=\"Open In Colab\"/></a>"
      ]
    },
    {
      "cell_type": "markdown",
      "metadata": {
        "id": "CTMwpVlJGpDM"
      },
      "source": [
        "**References**:\n",
        "\n",
        "Sentiment Analysis Model Creation and Pretraining :https://www.kaggle.com/code/priyankdl/sentiment-analysis-imdb-torchtext-gru\n",
        "\n",
        "Whats is MLOps? : https://www.youtube.com/watch?v=6SRifO6dmuE&t=663s\n",
        "\n",
        "Special Thanks to Microsoft Azure for giving Free Credits :)"
      ]
    },
    {
      "cell_type": "markdown",
      "metadata": {
        "id": "g3U9XYpNlseT"
      },
      "source": [
        "**Pre-Requisites:**\n",
        "\n",
        "Pytorch\n",
        "\n",
        "GRU\n",
        "\n",
        "Numpy\n",
        "\n",
        "Familiarity with terms like Training,Testing and API Endpoints.\n",
        "\n"
      ]
    },
    {
      "cell_type": "markdown",
      "metadata": {
        "id": "PVrmH7CLnusw"
      },
      "source": [
        "**WHY PIPELINES in AI and ML**?\n",
        "\n",
        "Normally Machine Learning or AI Models can be deployed directly to platforms like Microsoft Azure ML, AWS and so on. So why bother about creating a pipeline for the same. Let's say you want to deploy a new model that does the same work as the previous model, but better. How will you do it? Will you deploy it on a second REST endpoint and delete the endpoint for the first model. Let's say the model is made for a field like cricket, and it displays the probable number of runs that would be scored by a team during a match. As you would imagine, in this scenario the model has to be trained on the data of all the previous matches and on inference time, it will be given parameters like run rate, wickets down and so on to get the final prediction of runs scored. This entire process cannot be driven manually. Everything from training to testing to deployment on an endpoint has to be automated. That brings us to the first goal of Pipelines->AUTOMATION. And the second most important goal of the pipeline is ACCESS CONTROL of different parts of the pipeline and its subsequent development."
      ]
    },
    {
      "cell_type": "markdown",
      "metadata": {
        "id": "jrHF89HOF8m7"
      },
      "source": [
        "**What is done in this project?**"
      ]
    },
    {
      "cell_type": "markdown",
      "metadata": {
        "id": "haQ2iBfBJCMq"
      },
      "source": [
        "**Brief Idea:**"
      ]
    },
    {
      "cell_type": "markdown",
      "metadata": {
        "id": "EZXXWuA0GAtE"
      },
      "source": [
        "We have taken a model for Sentiment Analysis and created CI and CD Pipelines such that it automates training and deployement in the following way:\n",
        "\n",
        "The CI Pipeline takes the newly uploaded dataset and trains the already deployed model and registers that as a seperate model. It then checks whether this new model is better than the already deployed model and and stored a bool value in a txt file as an output.\n",
        "\n",
        "The CD Pipeline gets called if the bool value output of the CI Pipeline is true. It then takes the registered model with the latest version and deploys it."
      ]
    },
    {
      "cell_type": "markdown",
      "metadata": {
        "id": "fk04ZGv0JEQh"
      },
      "source": [
        "**Detailed Idea:**"
      ]
    },
    {
      "cell_type": "markdown",
      "metadata": {
        "id": "6QXemYrRJICv"
      },
      "source": [
        "1. Setup Workspace and Compute Resources\n",
        "   - Created a workspace and configured necessary compute resources for processing and training.\n",
        "\n",
        "2. Upload Files and Resources\n",
        "   - Uploaded pretrained model, and vocab.txt to the workspace.\n",
        "\n",
        "3. Connect to Workspace\n",
        "   - Established a connection to the Azure workspace for managing and accessing resources.\n",
        "\n",
        "4. Model Registration\n",
        "   - Registered the pretrained model within the workspace for version control and accessibility.\n",
        "\n",
        "5. Upload Vocabulary File\n",
        "   - Uploaded vocab.txt to the workspace for use in scripts requiring tokenization.\n",
        "\n",
        "6. Dataset Preparation\n",
        "   - Stored dataset.csv in Azure Blob Storage to make it accessible for processing scripts.\n",
        "\n",
        "7. script1.py: Data Preparation\n",
        "   - This script takes the dataset from the input argument and does preprocessing on it and divides it into train_x,train_y,test_x,test_y and stores them in output argument\n",
        "\n",
        "8. script2.py: Model Training\n",
        "   - Developed a training script that takes the registered model and train_x,train_y from the input argument and uses that to train the model and register the new trained model. Puts test_x,test_y from input argument to output argument and old and new model names into output argument\n",
        "\n",
        "9. script3.py: Model Comparison and Evaluation\n",
        "   - Takes the test_x,test_y,old model name,new model name from the input argument and test both models to see if new model is better than old model,if better, stored True in output text file, otherwise stores False.\n",
        "\n",
        "10. Pipeline for Model Training and Evaluation\n",
        "    - Designed and set up a pipeline to automate the steps of training, evaluating, and model comparison.\n",
        "\n",
        "11. score.py: Web Input Processing and Prediction\n",
        "    - Wrote a script that tokenizes incoming web input using vocab.txt, feeds it to the model, and generates a prediction output.\n",
        "\n",
        "12. script4.py : Deployment Script\n",
        "    - Created a deployment script to deploy the latest registered model along with Script 4 to serve web requests.\n",
        "\n",
        "13. Pipeline for Deployment\n",
        "    - Developed a pipeline to streamline the deployment process, integrating it with the model and input processing script.\n",
        "\n",
        "14. Made a function MLOps\n",
        "    - It takes uploaded dataset name as parameter and runs both the pipelines"
      ]
    },
    {
      "cell_type": "markdown",
      "metadata": {
        "id": "vtFqHH_FohHU"
      },
      "source": [
        "\n",
        "\n",
        "---\n",
        "\n"
      ]
    },
    {
      "cell_type": "markdown",
      "metadata": {
        "id": "qqMxJQVsoOzQ"
      },
      "source": [
        "--------------------------------------------------------------------------        **STEPS TO FOLLOW TO REPRODUCE THE PROJECT**         ---------------------------------------------------------------------"
      ]
    },
    {
      "cell_type": "markdown",
      "metadata": {
        "id": "qLDlsw2cojAd"
      },
      "source": [
        "\n",
        "\n",
        "---\n",
        "\n"
      ]
    },
    {
      "cell_type": "markdown",
      "metadata": {
        "id": "V7boHNF4o5Dx"
      },
      "source": [
        "**STEP 1** : **Login**\n",
        "\n",
        "Click on [Microsoft Azure](https://azure.microsoft.com/en-in) to go to the website and click on the login button on the top right hand side corner. Fill in details like outlook mail id, phone number, and debit or credit card details and finally login."
      ]
    },
    {
      "cell_type": "markdown",
      "metadata": {
        "id": "xwacvZXjo_01"
      },
      "source": [
        "**STEP 2:** **Go to Azure ML**\n",
        "\n",
        "In Azure Services section look for Azure ML and click on it."
      ]
    },
    {
      "cell_type": "markdown",
      "metadata": {
        "id": "IsWCip4HpEB8"
      },
      "source": [
        "**STEP 3:** **Initialising a Workspace and a Resource Group:**\n",
        "\n",
        "Click on the Create button and then New Workspace to create a new workspace.\n",
        "\n",
        "Subscription Type:\n",
        "\n",
        "        Free trail or Any Subsciption\n",
        "\n",
        "Resource Group :\n",
        "\n",
        "        Create New and then name it.\n",
        "\n",
        "Workspace Details:\n",
        "\n",
        "        Name: Give any name\n",
        "\n",
        "        Region: Whatever is closest to you\n",
        "\n",
        "        Region, Storage Account, Key Vault, Application Insights will be filled by default.\n",
        "\n",
        "        Container Registry: None (We would not be making any containers explicitly)\n",
        "\n",
        "Then Click on Review+Create and then Create\n"
      ]
    },
    {
      "cell_type": "markdown",
      "metadata": {
        "id": "QmtpGvKspsyQ"
      },
      "source": [
        "**STEP 4:** **Initialising a compute**:\n",
        "\n",
        "Click on the launch studio\n",
        "\n",
        "1.Click on the Compute section on the left hand side of the screen.\n",
        "\n",
        "2.Click on the Compute Clusters on the top\n",
        "\n",
        "3.Click on the \"New\" Button\n",
        "\n",
        "4.Select the appropriate options and click on NEXT.\n",
        "\n",
        "5.Give a Compute Name (you can look it up later again when needed), do not enable SSH validation\n",
        "\n",
        "Click on \"Create\""
      ]
    },
    {
      "cell_type": "markdown",
      "metadata": {
        "id": "L5E3GOLZpuV7"
      },
      "source": [
        "**STEP 5:** **Install the following dependencies**\n",
        "\n",
        "Open a colab notebook (.ipynb) file and follow the following steps\n"
      ]
    },
    {
      "cell_type": "code",
      "execution_count": null,
      "metadata": {
        "colab": {
          "background_save": true
        },
        "id": "T0EGx2glwnG_",
        "outputId": "33c08fec-edbc-4771-94ca-c4b52f978c11"
      },
      "outputs": [
        {
          "name": "stdout",
          "output_type": "stream",
          "text": [
            "Requirement already satisfied: azureml in /usr/local/lib/python3.10/dist-packages (0.2.7)\n",
            "Requirement already satisfied: pandas in /usr/local/lib/python3.10/dist-packages (from azureml) (2.2.2)\n",
            "Requirement already satisfied: python-dateutil in /usr/local/lib/python3.10/dist-packages (from azureml) (2.8.2)\n",
            "Requirement already satisfied: requests in /usr/local/lib/python3.10/dist-packages (from azureml) (2.32.3)\n",
            "Requirement already satisfied: numpy>=1.22.4 in /usr/local/lib/python3.10/dist-packages (from pandas->azureml) (1.23.5)\n",
            "Requirement already satisfied: pytz>=2020.1 in /usr/local/lib/python3.10/dist-packages (from pandas->azureml) (2024.2)\n",
            "Requirement already satisfied: tzdata>=2022.7 in /usr/local/lib/python3.10/dist-packages (from pandas->azureml) (2024.2)\n",
            "Requirement already satisfied: six>=1.5 in /usr/local/lib/python3.10/dist-packages (from python-dateutil->azureml) (1.16.0)\n",
            "Requirement already satisfied: charset-normalizer<4,>=2 in /usr/local/lib/python3.10/dist-packages (from requests->azureml) (3.4.0)\n",
            "Requirement already satisfied: idna<4,>=2.5 in /usr/local/lib/python3.10/dist-packages (from requests->azureml) (3.10)\n",
            "Requirement already satisfied: urllib3<3,>=1.21.1 in /usr/local/lib/python3.10/dist-packages (from requests->azureml) (2.2.3)\n",
            "Requirement already satisfied: certifi>=2017.4.17 in /usr/local/lib/python3.10/dist-packages (from requests->azureml) (2024.8.30)\n",
            "Requirement already satisfied: azureml.core in /usr/local/lib/python3.10/dist-packages (1.58.0)\n",
            "Requirement already satisfied: pytz in /usr/local/lib/python3.10/dist-packages (from azureml.core) (2024.2)\n",
            "Requirement already satisfied: backports.tempfile in /usr/local/lib/python3.10/dist-packages (from azureml.core) (1.0)\n",
            "Requirement already satisfied: pathspec<1.0.0 in /usr/local/lib/python3.10/dist-packages (from azureml.core) (0.12.1)\n",
            "Requirement already satisfied: requests<3.0.0,>=2.19.1 in /usr/local/lib/python3.10/dist-packages (from requests[socks]<3.0.0,>=2.19.1->azureml.core) (2.32.3)\n",
            "Requirement already satisfied: msal<2.0.0,>=1.15.0 in /usr/local/lib/python3.10/dist-packages (from azureml.core) (1.31.0)\n",
            "Requirement already satisfied: msal-extensions<=2.0.0,>=0.3.0 in /usr/local/lib/python3.10/dist-packages (from azureml.core) (1.2.0)\n",
            "Requirement already satisfied: knack<0.13.0 in /usr/local/lib/python3.10/dist-packages (from azureml.core) (0.12.0)\n",
            "Requirement already satisfied: azure-core<2.0.0 in /usr/local/lib/python3.10/dist-packages (from azureml.core) (1.32.0)\n",
            "Requirement already satisfied: pkginfo in /usr/local/lib/python3.10/dist-packages (from azureml.core) (1.11.2)\n",
            "Requirement already satisfied: argcomplete<4 in /usr/local/lib/python3.10/dist-packages (from azureml.core) (3.5.1)\n",
            "Requirement already satisfied: humanfriendly<11.0,>=4.7 in /usr/local/lib/python3.10/dist-packages (from azureml.core) (10.0)\n",
            "Requirement already satisfied: paramiko<4.0.0,>=2.0.8 in /usr/local/lib/python3.10/dist-packages (from azureml.core) (3.5.0)\n",
            "Requirement already satisfied: azure-mgmt-resource<=24.0.0,>=15.0.0 in /usr/local/lib/python3.10/dist-packages (from azureml.core) (23.2.0)\n",
            "Requirement already satisfied: azure-mgmt-containerregistry<11,>=8.2.0 in /usr/local/lib/python3.10/dist-packages (from azureml.core) (10.3.0)\n",
            "Requirement already satisfied: azure-mgmt-storage<=22.0.0,>=16.0.0 in /usr/local/lib/python3.10/dist-packages (from azureml.core) (21.2.1)\n",
            "Requirement already satisfied: azure-mgmt-keyvault<11.0.0,>=0.40.0 in /usr/local/lib/python3.10/dist-packages (from azureml.core) (10.3.1)\n",
            "Requirement already satisfied: azure-mgmt-authorization<5,>=0.40.0 in /usr/local/lib/python3.10/dist-packages (from azureml.core) (4.0.0)\n",
            "Requirement already satisfied: azure-mgmt-network<=28.0.0 in /usr/local/lib/python3.10/dist-packages (from azureml.core) (28.0.0)\n",
            "Requirement already satisfied: azure-graphrbac<1.0.0,>=0.40.0 in /usr/local/lib/python3.10/dist-packages (from azureml.core) (0.61.2)\n",
            "Requirement already satisfied: azure-common<2.0.0,>=1.1.12 in /usr/local/lib/python3.10/dist-packages (from azureml.core) (1.1.28)\n",
            "Requirement already satisfied: msrest<=0.7.1,>=0.5.1 in /usr/local/lib/python3.10/dist-packages (from azureml.core) (0.7.1)\n",
            "Requirement already satisfied: msrestazure<=0.7,>=0.4.33 in /usr/local/lib/python3.10/dist-packages (from azureml.core) (0.6.4.post1)\n",
            "Requirement already satisfied: urllib3<3.0.0,>1.26.17 in /usr/local/lib/python3.10/dist-packages (from azureml.core) (2.2.3)\n",
            "Requirement already satisfied: packaging<=25.0,>=20.0 in /usr/local/lib/python3.10/dist-packages (from azureml.core) (24.2)\n",
            "Requirement already satisfied: python-dateutil<3.0.0,>=2.7.3 in /usr/local/lib/python3.10/dist-packages (from azureml.core) (2.8.2)\n",
            "Requirement already satisfied: ndg-httpsclient<=0.5.1 in /usr/local/lib/python3.10/dist-packages (from azureml.core) (0.5.1)\n",
            "Requirement already satisfied: SecretStorage<4.0.0 in /usr/lib/python3/dist-packages (from azureml.core) (3.3.1)\n",
            "Requirement already satisfied: jsonpickle<4.0.0 in /usr/local/lib/python3.10/dist-packages (from azureml.core) (3.4.2)\n",
            "Requirement already satisfied: contextlib2<22.0.0 in /usr/local/lib/python3.10/dist-packages (from azureml.core) (21.6.0)\n",
            "Requirement already satisfied: docker<8.0.0 in /usr/local/lib/python3.10/dist-packages (from azureml.core) (7.1.0)\n",
            "Requirement already satisfied: PyJWT<3.0.0 in /usr/local/lib/python3.10/dist-packages (from azureml.core) (2.9.0)\n",
            "Requirement already satisfied: adal<=1.2.7,>=1.2.0 in /usr/local/lib/python3.10/dist-packages (from azureml.core) (1.2.7)\n",
            "Requirement already satisfied: pyopenssl<25.0.0 in /usr/local/lib/python3.10/dist-packages (from azureml.core) (24.2.1)\n",
            "Requirement already satisfied: jmespath<2.0.0 in /usr/local/lib/python3.10/dist-packages (from azureml.core) (1.0.1)\n",
            "Requirement already satisfied: cryptography>=1.1.0 in /usr/local/lib/python3.10/dist-packages (from adal<=1.2.7,>=1.2.0->azureml.core) (43.0.3)\n",
            "Requirement already satisfied: six>=1.11.0 in /usr/local/lib/python3.10/dist-packages (from azure-core<2.0.0->azureml.core) (1.16.0)\n",
            "Requirement already satisfied: typing-extensions>=4.6.0 in /usr/local/lib/python3.10/dist-packages (from azure-core<2.0.0->azureml.core) (4.12.2)\n",
            "Requirement already satisfied: isodate<1.0.0,>=0.6.1 in /usr/local/lib/python3.10/dist-packages (from azure-mgmt-authorization<5,>=0.40.0->azureml.core) (0.7.2)\n",
            "Requirement already satisfied: azure-mgmt-core<2.0.0,>=1.3.2 in /usr/local/lib/python3.10/dist-packages (from azure-mgmt-authorization<5,>=0.40.0->azureml.core) (1.5.0)\n",
            "Requirement already satisfied: pygments in /usr/local/lib/python3.10/dist-packages (from knack<0.13.0->azureml.core) (2.18.0)\n",
            "Requirement already satisfied: pyyaml in /usr/local/lib/python3.10/dist-packages (from knack<0.13.0->azureml.core) (6.0.2)\n",
            "Requirement already satisfied: tabulate in /usr/local/lib/python3.10/dist-packages (from knack<0.13.0->azureml.core) (0.9.0)\n",
            "Requirement already satisfied: portalocker<3,>=1.4 in /usr/local/lib/python3.10/dist-packages (from msal-extensions<=2.0.0,>=0.3.0->azureml.core) (2.10.1)\n",
            "Requirement already satisfied: certifi>=2017.4.17 in /usr/local/lib/python3.10/dist-packages (from msrest<=0.7.1,>=0.5.1->azureml.core) (2024.8.30)\n",
            "Requirement already satisfied: requests-oauthlib>=0.5.0 in /usr/local/lib/python3.10/dist-packages (from msrest<=0.7.1,>=0.5.1->azureml.core) (1.3.1)\n",
            "Requirement already satisfied: pyasn1>=0.1.1 in /usr/local/lib/python3.10/dist-packages (from ndg-httpsclient<=0.5.1->azureml.core) (0.6.1)\n",
            "Requirement already satisfied: bcrypt>=3.2 in /usr/local/lib/python3.10/dist-packages (from paramiko<4.0.0,>=2.0.8->azureml.core) (4.2.0)\n",
            "Requirement already satisfied: pynacl>=1.5 in /usr/local/lib/python3.10/dist-packages (from paramiko<4.0.0,>=2.0.8->azureml.core) (1.5.0)\n",
            "Requirement already satisfied: charset-normalizer<4,>=2 in /usr/local/lib/python3.10/dist-packages (from requests<3.0.0,>=2.19.1->requests[socks]<3.0.0,>=2.19.1->azureml.core) (3.4.0)\n",
            "Requirement already satisfied: idna<4,>=2.5 in /usr/local/lib/python3.10/dist-packages (from requests<3.0.0,>=2.19.1->requests[socks]<3.0.0,>=2.19.1->azureml.core) (3.10)\n",
            "Requirement already satisfied: PySocks!=1.5.7,>=1.5.6 in /usr/local/lib/python3.10/dist-packages (from requests[socks]<3.0.0,>=2.19.1->azureml.core) (1.7.1)\n",
            "Requirement already satisfied: backports.weakref in /usr/local/lib/python3.10/dist-packages (from backports.tempfile->azureml.core) (1.0.post1)\n",
            "Requirement already satisfied: cffi>=1.12 in /usr/local/lib/python3.10/dist-packages (from cryptography>=1.1.0->adal<=1.2.7,>=1.2.0->azureml.core) (1.17.1)\n",
            "Requirement already satisfied: oauthlib>=3.0.0 in /usr/local/lib/python3.10/dist-packages (from requests-oauthlib>=0.5.0->msrest<=0.7.1,>=0.5.1->azureml.core) (3.2.2)\n",
            "Requirement already satisfied: pycparser in /usr/local/lib/python3.10/dist-packages (from cffi>=1.12->cryptography>=1.1.0->adal<=1.2.7,>=1.2.0->azureml.core) (2.22)\n",
            "Requirement already satisfied: azureml-dataset-runtime in /usr/local/lib/python3.10/dist-packages (1.58.0)\n",
            "Requirement already satisfied: azureml-dataprep<5.2.0a,>=5.1.0a in /usr/local/lib/python3.10/dist-packages (from azureml-dataset-runtime) (5.1.6)\n",
            "Requirement already satisfied: pyarrow>=0.17.0 in /usr/local/lib/python3.10/dist-packages (from azureml-dataset-runtime) (17.0.0)\n",
            "Requirement already satisfied: numpy!=1.19.3,<1.24 in /usr/local/lib/python3.10/dist-packages (from azureml-dataset-runtime) (1.23.5)\n",
            "Requirement already satisfied: azureml-dataprep-native<42.0.0,>=41.0.0 in /usr/local/lib/python3.10/dist-packages (from azureml-dataprep<5.2.0a,>=5.1.0a->azureml-dataset-runtime) (41.0.0)\n",
            "Requirement already satisfied: azureml-dataprep-rslex~=2.22.2dev0 in /usr/local/lib/python3.10/dist-packages (from azureml-dataprep<5.2.0a,>=5.1.0a->azureml-dataset-runtime) (2.22.5)\n",
            "Requirement already satisfied: cloudpickle<3.0.0,>=1.1.0 in /usr/local/lib/python3.10/dist-packages (from azureml-dataprep<5.2.0a,>=5.1.0a->azureml-dataset-runtime) (2.2.1)\n",
            "Requirement already satisfied: azure-identity>=1.7.0 in /usr/local/lib/python3.10/dist-packages (from azureml-dataprep<5.2.0a,>=5.1.0a->azureml-dataset-runtime) (1.19.0)\n",
            "Requirement already satisfied: jsonschema in /usr/local/lib/python3.10/dist-packages (from azureml-dataprep<5.2.0a,>=5.1.0a->azureml-dataset-runtime) (4.23.0)\n",
            "Requirement already satisfied: pyyaml<7.0.0,>=5.1.0 in /usr/local/lib/python3.10/dist-packages (from azureml-dataprep<5.2.0a,>=5.1.0a->azureml-dataset-runtime) (6.0.2)\n",
            "Requirement already satisfied: azure-core>=1.31.0 in /usr/local/lib/python3.10/dist-packages (from azure-identity>=1.7.0->azureml-dataprep<5.2.0a,>=5.1.0a->azureml-dataset-runtime) (1.32.0)\n",
            "Requirement already satisfied: cryptography>=2.5 in /usr/local/lib/python3.10/dist-packages (from azure-identity>=1.7.0->azureml-dataprep<5.2.0a,>=5.1.0a->azureml-dataset-runtime) (43.0.3)\n",
            "Requirement already satisfied: msal>=1.30.0 in /usr/local/lib/python3.10/dist-packages (from azure-identity>=1.7.0->azureml-dataprep<5.2.0a,>=5.1.0a->azureml-dataset-runtime) (1.31.0)\n",
            "Requirement already satisfied: msal-extensions>=1.2.0 in /usr/local/lib/python3.10/dist-packages (from azure-identity>=1.7.0->azureml-dataprep<5.2.0a,>=5.1.0a->azureml-dataset-runtime) (1.2.0)\n",
            "Requirement already satisfied: typing-extensions>=4.0.0 in /usr/local/lib/python3.10/dist-packages (from azure-identity>=1.7.0->azureml-dataprep<5.2.0a,>=5.1.0a->azureml-dataset-runtime) (4.12.2)\n",
            "Requirement already satisfied: attrs>=22.2.0 in /usr/local/lib/python3.10/dist-packages (from jsonschema->azureml-dataprep<5.2.0a,>=5.1.0a->azureml-dataset-runtime) (24.2.0)\n",
            "Requirement already satisfied: jsonschema-specifications>=2023.03.6 in /usr/local/lib/python3.10/dist-packages (from jsonschema->azureml-dataprep<5.2.0a,>=5.1.0a->azureml-dataset-runtime) (2024.10.1)\n",
            "Requirement already satisfied: referencing>=0.28.4 in /usr/local/lib/python3.10/dist-packages (from jsonschema->azureml-dataprep<5.2.0a,>=5.1.0a->azureml-dataset-runtime) (0.35.1)\n",
            "Requirement already satisfied: rpds-py>=0.7.1 in /usr/local/lib/python3.10/dist-packages (from jsonschema->azureml-dataprep<5.2.0a,>=5.1.0a->azureml-dataset-runtime) (0.21.0)\n",
            "Requirement already satisfied: requests>=2.21.0 in /usr/local/lib/python3.10/dist-packages (from azure-core>=1.31.0->azure-identity>=1.7.0->azureml-dataprep<5.2.0a,>=5.1.0a->azureml-dataset-runtime) (2.32.3)\n",
            "Requirement already satisfied: six>=1.11.0 in /usr/local/lib/python3.10/dist-packages (from azure-core>=1.31.0->azure-identity>=1.7.0->azureml-dataprep<5.2.0a,>=5.1.0a->azureml-dataset-runtime) (1.16.0)\n",
            "Requirement already satisfied: cffi>=1.12 in /usr/local/lib/python3.10/dist-packages (from cryptography>=2.5->azure-identity>=1.7.0->azureml-dataprep<5.2.0a,>=5.1.0a->azureml-dataset-runtime) (1.17.1)\n",
            "Requirement already satisfied: PyJWT<3,>=1.0.0 in /usr/local/lib/python3.10/dist-packages (from PyJWT[crypto]<3,>=1.0.0->msal>=1.30.0->azure-identity>=1.7.0->azureml-dataprep<5.2.0a,>=5.1.0a->azureml-dataset-runtime) (2.9.0)\n",
            "Requirement already satisfied: portalocker<3,>=1.4 in /usr/local/lib/python3.10/dist-packages (from msal-extensions>=1.2.0->azure-identity>=1.7.0->azureml-dataprep<5.2.0a,>=5.1.0a->azureml-dataset-runtime) (2.10.1)\n",
            "Requirement already satisfied: pycparser in /usr/local/lib/python3.10/dist-packages (from cffi>=1.12->cryptography>=2.5->azure-identity>=1.7.0->azureml-dataprep<5.2.0a,>=5.1.0a->azureml-dataset-runtime) (2.22)\n",
            "Requirement already satisfied: charset-normalizer<4,>=2 in /usr/local/lib/python3.10/dist-packages (from requests>=2.21.0->azure-core>=1.31.0->azure-identity>=1.7.0->azureml-dataprep<5.2.0a,>=5.1.0a->azureml-dataset-runtime) (3.4.0)\n",
            "Requirement already satisfied: idna<4,>=2.5 in /usr/local/lib/python3.10/dist-packages (from requests>=2.21.0->azure-core>=1.31.0->azure-identity>=1.7.0->azureml-dataprep<5.2.0a,>=5.1.0a->azureml-dataset-runtime) (3.10)\n",
            "Requirement already satisfied: urllib3<3,>=1.21.1 in /usr/local/lib/python3.10/dist-packages (from requests>=2.21.0->azure-core>=1.31.0->azure-identity>=1.7.0->azureml-dataprep<5.2.0a,>=5.1.0a->azureml-dataset-runtime) (2.2.3)\n",
            "Requirement already satisfied: certifi>=2017.4.17 in /usr/local/lib/python3.10/dist-packages (from requests>=2.21.0->azure-core>=1.31.0->azure-identity>=1.7.0->azureml-dataprep<5.2.0a,>=5.1.0a->azureml-dataset-runtime) (2024.8.30)\n",
            "Collecting azureml.pipeline\n",
            "  Using cached azureml_pipeline-1.58.0-py3-none-any.whl.metadata (1.8 kB)\n",
            "Collecting azureml-pipeline-core~=1.58.0 (from azureml.pipeline)\n",
            "  Downloading azureml_pipeline_core-1.58.0-py3-none-any.whl.metadata (1.0 kB)\n",
            "Collecting azureml-pipeline-steps~=1.58.0 (from azureml.pipeline)\n",
            "  Downloading azureml_pipeline_steps-1.58.0-py3-none-any.whl.metadata (1.1 kB)\n",
            "Requirement already satisfied: azureml-core~=1.58.0 in /usr/local/lib/python3.10/dist-packages (from azureml-pipeline-core~=1.58.0->azureml.pipeline) (1.58.0)\n",
            "Collecting azureml-train-core~=1.58.0 (from azureml-pipeline-steps~=1.58.0->azureml.pipeline)\n",
            "  Using cached azureml_train_core-1.58.0-py3-none-any.whl.metadata (1.8 kB)\n",
            "Collecting azureml-train-automl-client~=1.58.0 (from azureml-pipeline-steps~=1.58.0->azureml.pipeline)\n",
            "  Using cached azureml_train_automl_client-1.58.0-py3-none-any.whl.metadata (1.4 kB)\n",
            "Requirement already satisfied: pytz in /usr/local/lib/python3.10/dist-packages (from azureml-core~=1.58.0->azureml-pipeline-core~=1.58.0->azureml.pipeline) (2024.2)\n",
            "Requirement already satisfied: backports.tempfile in /usr/local/lib/python3.10/dist-packages (from azureml-core~=1.58.0->azureml-pipeline-core~=1.58.0->azureml.pipeline) (1.0)\n",
            "Requirement already satisfied: pathspec<1.0.0 in /usr/local/lib/python3.10/dist-packages (from azureml-core~=1.58.0->azureml-pipeline-core~=1.58.0->azureml.pipeline) (0.12.1)\n",
            "Requirement already satisfied: requests<3.0.0,>=2.19.1 in /usr/local/lib/python3.10/dist-packages (from requests[socks]<3.0.0,>=2.19.1->azureml-core~=1.58.0->azureml-pipeline-core~=1.58.0->azureml.pipeline) (2.32.3)\n",
            "Requirement already satisfied: msal<2.0.0,>=1.15.0 in /usr/local/lib/python3.10/dist-packages (from azureml-core~=1.58.0->azureml-pipeline-core~=1.58.0->azureml.pipeline) (1.31.0)\n",
            "Requirement already satisfied: msal-extensions<=2.0.0,>=0.3.0 in /usr/local/lib/python3.10/dist-packages (from azureml-core~=1.58.0->azureml-pipeline-core~=1.58.0->azureml.pipeline) (1.2.0)\n",
            "Requirement already satisfied: knack<0.13.0 in /usr/local/lib/python3.10/dist-packages (from azureml-core~=1.58.0->azureml-pipeline-core~=1.58.0->azureml.pipeline) (0.12.0)\n",
            "Requirement already satisfied: azure-core<2.0.0 in /usr/local/lib/python3.10/dist-packages (from azureml-core~=1.58.0->azureml-pipeline-core~=1.58.0->azureml.pipeline) (1.32.0)\n",
            "Requirement already satisfied: pkginfo in /usr/local/lib/python3.10/dist-packages (from azureml-core~=1.58.0->azureml-pipeline-core~=1.58.0->azureml.pipeline) (1.11.2)\n",
            "Requirement already satisfied: argcomplete<4 in /usr/local/lib/python3.10/dist-packages (from azureml-core~=1.58.0->azureml-pipeline-core~=1.58.0->azureml.pipeline) (3.5.1)\n",
            "Requirement already satisfied: humanfriendly<11.0,>=4.7 in /usr/local/lib/python3.10/dist-packages (from azureml-core~=1.58.0->azureml-pipeline-core~=1.58.0->azureml.pipeline) (10.0)\n",
            "Requirement already satisfied: paramiko<4.0.0,>=2.0.8 in /usr/local/lib/python3.10/dist-packages (from azureml-core~=1.58.0->azureml-pipeline-core~=1.58.0->azureml.pipeline) (3.5.0)\n",
            "Requirement already satisfied: azure-mgmt-resource<=24.0.0,>=15.0.0 in /usr/local/lib/python3.10/dist-packages (from azureml-core~=1.58.0->azureml-pipeline-core~=1.58.0->azureml.pipeline) (23.2.0)\n",
            "Requirement already satisfied: azure-mgmt-containerregistry<11,>=8.2.0 in /usr/local/lib/python3.10/dist-packages (from azureml-core~=1.58.0->azureml-pipeline-core~=1.58.0->azureml.pipeline) (10.3.0)\n",
            "Requirement already satisfied: azure-mgmt-storage<=22.0.0,>=16.0.0 in /usr/local/lib/python3.10/dist-packages (from azureml-core~=1.58.0->azureml-pipeline-core~=1.58.0->azureml.pipeline) (21.2.1)\n",
            "Requirement already satisfied: azure-mgmt-keyvault<11.0.0,>=0.40.0 in /usr/local/lib/python3.10/dist-packages (from azureml-core~=1.58.0->azureml-pipeline-core~=1.58.0->azureml.pipeline) (10.3.1)\n",
            "Requirement already satisfied: azure-mgmt-authorization<5,>=0.40.0 in /usr/local/lib/python3.10/dist-packages (from azureml-core~=1.58.0->azureml-pipeline-core~=1.58.0->azureml.pipeline) (4.0.0)\n",
            "Requirement already satisfied: azure-mgmt-network<=28.0.0 in /usr/local/lib/python3.10/dist-packages (from azureml-core~=1.58.0->azureml-pipeline-core~=1.58.0->azureml.pipeline) (28.0.0)\n",
            "Requirement already satisfied: azure-graphrbac<1.0.0,>=0.40.0 in /usr/local/lib/python3.10/dist-packages (from azureml-core~=1.58.0->azureml-pipeline-core~=1.58.0->azureml.pipeline) (0.61.2)\n",
            "Requirement already satisfied: azure-common<2.0.0,>=1.1.12 in /usr/local/lib/python3.10/dist-packages (from azureml-core~=1.58.0->azureml-pipeline-core~=1.58.0->azureml.pipeline) (1.1.28)\n",
            "Requirement already satisfied: msrest<=0.7.1,>=0.5.1 in /usr/local/lib/python3.10/dist-packages (from azureml-core~=1.58.0->azureml-pipeline-core~=1.58.0->azureml.pipeline) (0.7.1)\n",
            "Requirement already satisfied: msrestazure<=0.7,>=0.4.33 in /usr/local/lib/python3.10/dist-packages (from azureml-core~=1.58.0->azureml-pipeline-core~=1.58.0->azureml.pipeline) (0.6.4.post1)\n",
            "Requirement already satisfied: urllib3<3.0.0,>1.26.17 in /usr/local/lib/python3.10/dist-packages (from azureml-core~=1.58.0->azureml-pipeline-core~=1.58.0->azureml.pipeline) (2.2.3)\n",
            "Requirement already satisfied: packaging<=25.0,>=20.0 in /usr/local/lib/python3.10/dist-packages (from azureml-core~=1.58.0->azureml-pipeline-core~=1.58.0->azureml.pipeline) (24.2)\n",
            "Requirement already satisfied: python-dateutil<3.0.0,>=2.7.3 in /usr/local/lib/python3.10/dist-packages (from azureml-core~=1.58.0->azureml-pipeline-core~=1.58.0->azureml.pipeline) (2.8.2)\n",
            "Requirement already satisfied: ndg-httpsclient<=0.5.1 in /usr/local/lib/python3.10/dist-packages (from azureml-core~=1.58.0->azureml-pipeline-core~=1.58.0->azureml.pipeline) (0.5.1)\n",
            "Requirement already satisfied: SecretStorage<4.0.0 in /usr/lib/python3/dist-packages (from azureml-core~=1.58.0->azureml-pipeline-core~=1.58.0->azureml.pipeline) (3.3.1)\n",
            "Requirement already satisfied: jsonpickle<4.0.0 in /usr/local/lib/python3.10/dist-packages (from azureml-core~=1.58.0->azureml-pipeline-core~=1.58.0->azureml.pipeline) (3.4.2)\n",
            "Requirement already satisfied: contextlib2<22.0.0 in /usr/local/lib/python3.10/dist-packages (from azureml-core~=1.58.0->azureml-pipeline-core~=1.58.0->azureml.pipeline) (21.6.0)\n",
            "Requirement already satisfied: docker<8.0.0 in /usr/local/lib/python3.10/dist-packages (from azureml-core~=1.58.0->azureml-pipeline-core~=1.58.0->azureml.pipeline) (7.1.0)\n",
            "Requirement already satisfied: PyJWT<3.0.0 in /usr/local/lib/python3.10/dist-packages (from azureml-core~=1.58.0->azureml-pipeline-core~=1.58.0->azureml.pipeline) (2.9.0)\n",
            "Requirement already satisfied: adal<=1.2.7,>=1.2.0 in /usr/local/lib/python3.10/dist-packages (from azureml-core~=1.58.0->azureml-pipeline-core~=1.58.0->azureml.pipeline) (1.2.7)\n",
            "Requirement already satisfied: pyopenssl<25.0.0 in /usr/local/lib/python3.10/dist-packages (from azureml-core~=1.58.0->azureml-pipeline-core~=1.58.0->azureml.pipeline) (24.2.1)\n",
            "Requirement already satisfied: jmespath<2.0.0 in /usr/local/lib/python3.10/dist-packages (from azureml-core~=1.58.0->azureml-pipeline-core~=1.58.0->azureml.pipeline) (1.0.1)\n",
            "Collecting azureml-automl-core~=1.58.0 (from azureml-train-automl-client~=1.58.0->azureml-pipeline-steps~=1.58.0->azureml.pipeline)\n",
            "  Downloading azureml_automl_core-1.58.0-py3-none-any.whl.metadata (1.9 kB)\n",
            "Requirement already satisfied: azureml-dataset-runtime~=1.58.0 in /usr/local/lib/python3.10/dist-packages (from azureml-train-automl-client~=1.58.0->azureml-pipeline-steps~=1.58.0->azureml.pipeline) (1.58.0)\n",
            "Collecting azureml-telemetry~=1.58.0 (from azureml-train-automl-client~=1.58.0->azureml-pipeline-steps~=1.58.0->azureml.pipeline)\n",
            "  Downloading azureml_telemetry-1.58.0-py3-none-any.whl.metadata (1.1 kB)\n",
            "Collecting azureml-train-restclients-hyperdrive~=1.58.0 (from azureml-train-core~=1.58.0->azureml-pipeline-steps~=1.58.0->azureml.pipeline)\n",
            "  Downloading azureml_train_restclients_hyperdrive-1.58.0-py3-none-any.whl.metadata (1.2 kB)\n",
            "Requirement already satisfied: cryptography>=1.1.0 in /usr/local/lib/python3.10/dist-packages (from adal<=1.2.7,>=1.2.0->azureml-core~=1.58.0->azureml-pipeline-core~=1.58.0->azureml.pipeline) (43.0.3)\n",
            "Requirement already satisfied: six>=1.11.0 in /usr/local/lib/python3.10/dist-packages (from azure-core<2.0.0->azureml-core~=1.58.0->azureml-pipeline-core~=1.58.0->azureml.pipeline) (1.16.0)\n",
            "Requirement already satisfied: typing-extensions>=4.6.0 in /usr/local/lib/python3.10/dist-packages (from azure-core<2.0.0->azureml-core~=1.58.0->azureml-pipeline-core~=1.58.0->azureml.pipeline) (4.12.2)\n",
            "Requirement already satisfied: isodate<1.0.0,>=0.6.1 in /usr/local/lib/python3.10/dist-packages (from azure-mgmt-authorization<5,>=0.40.0->azureml-core~=1.58.0->azureml-pipeline-core~=1.58.0->azureml.pipeline) (0.7.2)\n",
            "Requirement already satisfied: azure-mgmt-core<2.0.0,>=1.3.2 in /usr/local/lib/python3.10/dist-packages (from azure-mgmt-authorization<5,>=0.40.0->azureml-core~=1.58.0->azureml-pipeline-core~=1.58.0->azureml.pipeline) (1.5.0)\n",
            "Collecting importlib-metadata<=8.2.0 (from azureml-automl-core~=1.58.0->azureml-train-automl-client~=1.58.0->azureml-pipeline-steps~=1.58.0->azureml.pipeline)\n",
            "  Downloading importlib_metadata-8.2.0-py3-none-any.whl.metadata (4.7 kB)\n",
            "Collecting importlib-resources<=6.4.0 (from azureml-automl-core~=1.58.0->azureml-train-automl-client~=1.58.0->azureml-pipeline-steps~=1.58.0->azureml.pipeline)\n",
            "  Downloading importlib_resources-6.4.0-py3-none-any.whl.metadata (3.9 kB)\n",
            "Requirement already satisfied: azureml-dataprep<5.2.0a,>=5.1.0a in /usr/local/lib/python3.10/dist-packages (from azureml-dataset-runtime~=1.58.0->azureml-train-automl-client~=1.58.0->azureml-pipeline-steps~=1.58.0->azureml.pipeline) (5.1.6)\n",
            "Requirement already satisfied: pyarrow>=0.17.0 in /usr/local/lib/python3.10/dist-packages (from azureml-dataset-runtime~=1.58.0->azureml-train-automl-client~=1.58.0->azureml-pipeline-steps~=1.58.0->azureml.pipeline) (17.0.0)\n",
            "Requirement already satisfied: numpy!=1.19.3,<1.24 in /usr/local/lib/python3.10/dist-packages (from azureml-dataset-runtime~=1.58.0->azureml-train-automl-client~=1.58.0->azureml-pipeline-steps~=1.58.0->azureml.pipeline) (1.23.5)\n",
            "Collecting applicationinsights (from azureml-telemetry~=1.58.0->azureml-train-automl-client~=1.58.0->azureml-pipeline-steps~=1.58.0->azureml.pipeline)\n",
            "  Downloading applicationinsights-0.11.10-py2.py3-none-any.whl.metadata (982 bytes)\n",
            "Requirement already satisfied: pygments in /usr/local/lib/python3.10/dist-packages (from knack<0.13.0->azureml-core~=1.58.0->azureml-pipeline-core~=1.58.0->azureml.pipeline) (2.18.0)\n",
            "Requirement already satisfied: pyyaml in /usr/local/lib/python3.10/dist-packages (from knack<0.13.0->azureml-core~=1.58.0->azureml-pipeline-core~=1.58.0->azureml.pipeline) (6.0.2)\n",
            "Requirement already satisfied: tabulate in /usr/local/lib/python3.10/dist-packages (from knack<0.13.0->azureml-core~=1.58.0->azureml-pipeline-core~=1.58.0->azureml.pipeline) (0.9.0)\n",
            "Requirement already satisfied: portalocker<3,>=1.4 in /usr/local/lib/python3.10/dist-packages (from msal-extensions<=2.0.0,>=0.3.0->azureml-core~=1.58.0->azureml-pipeline-core~=1.58.0->azureml.pipeline) (2.10.1)\n",
            "Requirement already satisfied: certifi>=2017.4.17 in /usr/local/lib/python3.10/dist-packages (from msrest<=0.7.1,>=0.5.1->azureml-core~=1.58.0->azureml-pipeline-core~=1.58.0->azureml.pipeline) (2024.8.30)\n",
            "Requirement already satisfied: requests-oauthlib>=0.5.0 in /usr/local/lib/python3.10/dist-packages (from msrest<=0.7.1,>=0.5.1->azureml-core~=1.58.0->azureml-pipeline-core~=1.58.0->azureml.pipeline) (1.3.1)\n",
            "Requirement already satisfied: pyasn1>=0.1.1 in /usr/local/lib/python3.10/dist-packages (from ndg-httpsclient<=0.5.1->azureml-core~=1.58.0->azureml-pipeline-core~=1.58.0->azureml.pipeline) (0.6.1)\n",
            "Requirement already satisfied: bcrypt>=3.2 in /usr/local/lib/python3.10/dist-packages (from paramiko<4.0.0,>=2.0.8->azureml-core~=1.58.0->azureml-pipeline-core~=1.58.0->azureml.pipeline) (4.2.0)\n",
            "Requirement already satisfied: pynacl>=1.5 in /usr/local/lib/python3.10/dist-packages (from paramiko<4.0.0,>=2.0.8->azureml-core~=1.58.0->azureml-pipeline-core~=1.58.0->azureml.pipeline) (1.5.0)\n",
            "Requirement already satisfied: charset-normalizer<4,>=2 in /usr/local/lib/python3.10/dist-packages (from requests<3.0.0,>=2.19.1->requests[socks]<3.0.0,>=2.19.1->azureml-core~=1.58.0->azureml-pipeline-core~=1.58.0->azureml.pipeline) (3.4.0)\n",
            "Requirement already satisfied: idna<4,>=2.5 in /usr/local/lib/python3.10/dist-packages (from requests<3.0.0,>=2.19.1->requests[socks]<3.0.0,>=2.19.1->azureml-core~=1.58.0->azureml-pipeline-core~=1.58.0->azureml.pipeline) (3.10)\n",
            "Requirement already satisfied: PySocks!=1.5.7,>=1.5.6 in /usr/local/lib/python3.10/dist-packages (from requests[socks]<3.0.0,>=2.19.1->azureml-core~=1.58.0->azureml-pipeline-core~=1.58.0->azureml.pipeline) (1.7.1)\n",
            "Requirement already satisfied: backports.weakref in /usr/local/lib/python3.10/dist-packages (from backports.tempfile->azureml-core~=1.58.0->azureml-pipeline-core~=1.58.0->azureml.pipeline) (1.0.post1)\n",
            "Requirement already satisfied: azureml-dataprep-native<42.0.0,>=41.0.0 in /usr/local/lib/python3.10/dist-packages (from azureml-dataprep<5.2.0a,>=5.1.0a->azureml-dataset-runtime~=1.58.0->azureml-train-automl-client~=1.58.0->azureml-pipeline-steps~=1.58.0->azureml.pipeline) (41.0.0)\n",
            "Requirement already satisfied: azureml-dataprep-rslex~=2.22.2dev0 in /usr/local/lib/python3.10/dist-packages (from azureml-dataprep<5.2.0a,>=5.1.0a->azureml-dataset-runtime~=1.58.0->azureml-train-automl-client~=1.58.0->azureml-pipeline-steps~=1.58.0->azureml.pipeline) (2.22.5)\n",
            "Requirement already satisfied: cloudpickle<3.0.0,>=1.1.0 in /usr/local/lib/python3.10/dist-packages (from azureml-dataprep<5.2.0a,>=5.1.0a->azureml-dataset-runtime~=1.58.0->azureml-train-automl-client~=1.58.0->azureml-pipeline-steps~=1.58.0->azureml.pipeline) (2.2.1)\n",
            "Requirement already satisfied: azure-identity>=1.7.0 in /usr/local/lib/python3.10/dist-packages (from azureml-dataprep<5.2.0a,>=5.1.0a->azureml-dataset-runtime~=1.58.0->azureml-train-automl-client~=1.58.0->azureml-pipeline-steps~=1.58.0->azureml.pipeline) (1.19.0)\n",
            "Requirement already satisfied: jsonschema in /usr/local/lib/python3.10/dist-packages (from azureml-dataprep<5.2.0a,>=5.1.0a->azureml-dataset-runtime~=1.58.0->azureml-train-automl-client~=1.58.0->azureml-pipeline-steps~=1.58.0->azureml.pipeline) (4.23.0)\n",
            "Requirement already satisfied: cffi>=1.12 in /usr/local/lib/python3.10/dist-packages (from cryptography>=1.1.0->adal<=1.2.7,>=1.2.0->azureml-core~=1.58.0->azureml-pipeline-core~=1.58.0->azureml.pipeline) (1.17.1)\n",
            "Requirement already satisfied: zipp>=0.5 in /usr/local/lib/python3.10/dist-packages (from importlib-metadata<=8.2.0->azureml-automl-core~=1.58.0->azureml-train-automl-client~=1.58.0->azureml-pipeline-steps~=1.58.0->azureml.pipeline) (3.20.2)\n",
            "Requirement already satisfied: oauthlib>=3.0.0 in /usr/local/lib/python3.10/dist-packages (from requests-oauthlib>=0.5.0->msrest<=0.7.1,>=0.5.1->azureml-core~=1.58.0->azureml-pipeline-core~=1.58.0->azureml.pipeline) (3.2.2)\n",
            "Requirement already satisfied: pycparser in /usr/local/lib/python3.10/dist-packages (from cffi>=1.12->cryptography>=1.1.0->adal<=1.2.7,>=1.2.0->azureml-core~=1.58.0->azureml-pipeline-core~=1.58.0->azureml.pipeline) (2.22)\n",
            "Requirement already satisfied: attrs>=22.2.0 in /usr/local/lib/python3.10/dist-packages (from jsonschema->azureml-dataprep<5.2.0a,>=5.1.0a->azureml-dataset-runtime~=1.58.0->azureml-train-automl-client~=1.58.0->azureml-pipeline-steps~=1.58.0->azureml.pipeline) (24.2.0)\n",
            "Requirement already satisfied: jsonschema-specifications>=2023.03.6 in /usr/local/lib/python3.10/dist-packages (from jsonschema->azureml-dataprep<5.2.0a,>=5.1.0a->azureml-dataset-runtime~=1.58.0->azureml-train-automl-client~=1.58.0->azureml-pipeline-steps~=1.58.0->azureml.pipeline) (2024.10.1)\n",
            "Requirement already satisfied: referencing>=0.28.4 in /usr/local/lib/python3.10/dist-packages (from jsonschema->azureml-dataprep<5.2.0a,>=5.1.0a->azureml-dataset-runtime~=1.58.0->azureml-train-automl-client~=1.58.0->azureml-pipeline-steps~=1.58.0->azureml.pipeline) (0.35.1)\n",
            "Requirement already satisfied: rpds-py>=0.7.1 in /usr/local/lib/python3.10/dist-packages (from jsonschema->azureml-dataprep<5.2.0a,>=5.1.0a->azureml-dataset-runtime~=1.58.0->azureml-train-automl-client~=1.58.0->azureml-pipeline-steps~=1.58.0->azureml.pipeline) (0.21.0)\n",
            "Downloading azureml_pipeline-1.58.0-py3-none-any.whl (2.4 kB)\n",
            "Downloading azureml_pipeline_core-1.58.0-py3-none-any.whl (313 kB)\n",
            "\u001b[2K   \u001b[90m━━━━━━━━━━━━━━━━━━━━━━━━━━━━━━━━━━━━━━━━\u001b[0m \u001b[32m313.7/313.7 kB\u001b[0m \u001b[31m6.0 MB/s\u001b[0m eta \u001b[36m0:00:00\u001b[0m\n",
            "\u001b[?25hDownloading azureml_pipeline_steps-1.58.0-py3-none-any.whl (69 kB)\n",
            "\u001b[2K   \u001b[90m━━━━━━━━━━━━━━━━━━━━━━━━━━━━━━━━━━━━━━━━\u001b[0m \u001b[32m69.6/69.6 kB\u001b[0m \u001b[31m4.5 MB/s\u001b[0m eta \u001b[36m0:00:00\u001b[0m\n",
            "\u001b[?25hDownloading azureml_train_automl_client-1.58.0-py3-none-any.whl (137 kB)\n",
            "\u001b[2K   \u001b[90m━━━━━━━━━━━━━━━━━━━━━━━━━━━━━━━━━━━━━━━━\u001b[0m \u001b[32m137.6/137.6 kB\u001b[0m \u001b[31m8.8 MB/s\u001b[0m eta \u001b[36m0:00:00\u001b[0m\n",
            "\u001b[?25hDownloading azureml_train_core-1.58.0-py3-none-any.whl (8.6 MB)\n",
            "\u001b[2K   \u001b[90m━━━━━━━━━━━━━━━━━━━━━━━━━━━━━━━━━━━━━━━━\u001b[0m \u001b[32m8.6/8.6 MB\u001b[0m \u001b[31m63.1 MB/s\u001b[0m eta \u001b[36m0:00:00\u001b[0m\n",
            "\u001b[?25hDownloading azureml_automl_core-1.58.0-py3-none-any.whl (249 kB)\n",
            "\u001b[2K   \u001b[90m━━━━━━━━━━━━━━━━━━━━━━━━━━━━━━━━━━━━━━━━\u001b[0m \u001b[32m249.6/249.6 kB\u001b[0m \u001b[31m15.9 MB/s\u001b[0m eta \u001b[36m0:00:00\u001b[0m\n",
            "\u001b[?25hDownloading azureml_telemetry-1.58.0-py3-none-any.whl (30 kB)\n",
            "Downloading azureml_train_restclients_hyperdrive-1.58.0-py3-none-any.whl (18 kB)\n",
            "Downloading importlib_metadata-8.2.0-py3-none-any.whl (25 kB)\n",
            "Downloading importlib_resources-6.4.0-py3-none-any.whl (38 kB)\n",
            "Downloading applicationinsights-0.11.10-py2.py3-none-any.whl (55 kB)\n",
            "\u001b[2K   \u001b[90m━━━━━━━━━━━━━━━━━━━━━━━━━━━━━━━━━━━━━━━━\u001b[0m \u001b[32m55.1/55.1 kB\u001b[0m \u001b[31m2.8 MB/s\u001b[0m eta \u001b[36m0:00:00\u001b[0m\n",
            "\u001b[?25hInstalling collected packages: applicationinsights, importlib-resources, importlib-metadata, azureml-train-restclients-hyperdrive, azureml-telemetry, azureml-pipeline-core, azureml-train-core, azureml-automl-core, azureml-train-automl-client, azureml-pipeline-steps, azureml.pipeline\n",
            "  Attempting uninstall: importlib-resources\n",
            "    Found existing installation: importlib_resources 6.4.5\n",
            "    Uninstalling importlib_resources-6.4.5:\n",
            "      Successfully uninstalled importlib_resources-6.4.5\n",
            "  Attempting uninstall: importlib-metadata\n",
            "    Found existing installation: importlib_metadata 8.5.0\n",
            "    Uninstalling importlib_metadata-8.5.0:\n",
            "      Successfully uninstalled importlib_metadata-8.5.0\n",
            "\u001b[31mERROR: pip's dependency resolver does not currently take into account all the packages that are installed. This behaviour is the source of the following dependency conflicts.\n",
            "dask 2024.10.0 requires cloudpickle>=3.0.0, but you have cloudpickle 2.2.1 which is incompatible.\u001b[0m\u001b[31m\n",
            "\u001b[0mSuccessfully installed applicationinsights-0.11.10 azureml-automl-core-1.58.0 azureml-pipeline-core-1.58.0 azureml-pipeline-steps-1.58.0 azureml-telemetry-1.58.0 azureml-train-automl-client-1.58.0 azureml-train-core-1.58.0 azureml-train-restclients-hyperdrive-1.58.0 azureml.pipeline-1.58.0 importlib-metadata-8.2.0 importlib-resources-6.4.0\n",
            "Collecting azureml-sdk\n",
            "  Using cached azureml_sdk-1.58.0-py3-none-any.whl.metadata (3.6 kB)\n",
            "Requirement already satisfied: azureml-core~=1.58.0 in /usr/local/lib/python3.10/dist-packages (from azureml-sdk) (1.58.0)\n",
            "Requirement already satisfied: azureml-dataset-runtime~=1.58.0 in /usr/local/lib/python3.10/dist-packages (from azureml-dataset-runtime[fuse]~=1.58.0->azureml-sdk) (1.58.0)\n",
            "Requirement already satisfied: azureml-train-core~=1.58.0 in /usr/local/lib/python3.10/dist-packages (from azureml-sdk) (1.58.0)\n",
            "Requirement already satisfied: azureml-train-automl-client~=1.58.0 in /usr/local/lib/python3.10/dist-packages (from azureml-sdk) (1.58.0)\n",
            "Requirement already satisfied: azureml-pipeline~=1.58.0 in /usr/local/lib/python3.10/dist-packages (from azureml-sdk) (1.58.0)\n",
            "Requirement already satisfied: pytz in /usr/local/lib/python3.10/dist-packages (from azureml-core~=1.58.0->azureml-sdk) (2024.2)\n",
            "Requirement already satisfied: backports.tempfile in /usr/local/lib/python3.10/dist-packages (from azureml-core~=1.58.0->azureml-sdk) (1.0)\n",
            "Requirement already satisfied: pathspec<1.0.0 in /usr/local/lib/python3.10/dist-packages (from azureml-core~=1.58.0->azureml-sdk) (0.12.1)\n",
            "Requirement already satisfied: requests<3.0.0,>=2.19.1 in /usr/local/lib/python3.10/dist-packages (from requests[socks]<3.0.0,>=2.19.1->azureml-core~=1.58.0->azureml-sdk) (2.32.3)\n",
            "Requirement already satisfied: msal<2.0.0,>=1.15.0 in /usr/local/lib/python3.10/dist-packages (from azureml-core~=1.58.0->azureml-sdk) (1.31.0)\n",
            "Requirement already satisfied: msal-extensions<=2.0.0,>=0.3.0 in /usr/local/lib/python3.10/dist-packages (from azureml-core~=1.58.0->azureml-sdk) (1.2.0)\n",
            "Requirement already satisfied: knack<0.13.0 in /usr/local/lib/python3.10/dist-packages (from azureml-core~=1.58.0->azureml-sdk) (0.12.0)\n",
            "Requirement already satisfied: azure-core<2.0.0 in /usr/local/lib/python3.10/dist-packages (from azureml-core~=1.58.0->azureml-sdk) (1.32.0)\n",
            "Requirement already satisfied: pkginfo in /usr/local/lib/python3.10/dist-packages (from azureml-core~=1.58.0->azureml-sdk) (1.11.2)\n",
            "Requirement already satisfied: argcomplete<4 in /usr/local/lib/python3.10/dist-packages (from azureml-core~=1.58.0->azureml-sdk) (3.5.1)\n",
            "Requirement already satisfied: humanfriendly<11.0,>=4.7 in /usr/local/lib/python3.10/dist-packages (from azureml-core~=1.58.0->azureml-sdk) (10.0)\n",
            "Requirement already satisfied: paramiko<4.0.0,>=2.0.8 in /usr/local/lib/python3.10/dist-packages (from azureml-core~=1.58.0->azureml-sdk) (3.5.0)\n",
            "Requirement already satisfied: azure-mgmt-resource<=24.0.0,>=15.0.0 in /usr/local/lib/python3.10/dist-packages (from azureml-core~=1.58.0->azureml-sdk) (23.2.0)\n",
            "Requirement already satisfied: azure-mgmt-containerregistry<11,>=8.2.0 in /usr/local/lib/python3.10/dist-packages (from azureml-core~=1.58.0->azureml-sdk) (10.3.0)\n",
            "Requirement already satisfied: azure-mgmt-storage<=22.0.0,>=16.0.0 in /usr/local/lib/python3.10/dist-packages (from azureml-core~=1.58.0->azureml-sdk) (21.2.1)\n",
            "Requirement already satisfied: azure-mgmt-keyvault<11.0.0,>=0.40.0 in /usr/local/lib/python3.10/dist-packages (from azureml-core~=1.58.0->azureml-sdk) (10.3.1)\n",
            "Requirement already satisfied: azure-mgmt-authorization<5,>=0.40.0 in /usr/local/lib/python3.10/dist-packages (from azureml-core~=1.58.0->azureml-sdk) (4.0.0)\n",
            "Requirement already satisfied: azure-mgmt-network<=28.0.0 in /usr/local/lib/python3.10/dist-packages (from azureml-core~=1.58.0->azureml-sdk) (28.0.0)\n",
            "Requirement already satisfied: azure-graphrbac<1.0.0,>=0.40.0 in /usr/local/lib/python3.10/dist-packages (from azureml-core~=1.58.0->azureml-sdk) (0.61.2)\n",
            "Requirement already satisfied: azure-common<2.0.0,>=1.1.12 in /usr/local/lib/python3.10/dist-packages (from azureml-core~=1.58.0->azureml-sdk) (1.1.28)\n",
            "Requirement already satisfied: msrest<=0.7.1,>=0.5.1 in /usr/local/lib/python3.10/dist-packages (from azureml-core~=1.58.0->azureml-sdk) (0.7.1)\n",
            "Requirement already satisfied: msrestazure<=0.7,>=0.4.33 in /usr/local/lib/python3.10/dist-packages (from azureml-core~=1.58.0->azureml-sdk) (0.6.4.post1)\n",
            "Requirement already satisfied: urllib3<3.0.0,>1.26.17 in /usr/local/lib/python3.10/dist-packages (from azureml-core~=1.58.0->azureml-sdk) (2.2.3)\n",
            "Requirement already satisfied: packaging<=25.0,>=20.0 in /usr/local/lib/python3.10/dist-packages (from azureml-core~=1.58.0->azureml-sdk) (24.2)\n",
            "Requirement already satisfied: python-dateutil<3.0.0,>=2.7.3 in /usr/local/lib/python3.10/dist-packages (from azureml-core~=1.58.0->azureml-sdk) (2.8.2)\n",
            "Requirement already satisfied: ndg-httpsclient<=0.5.1 in /usr/local/lib/python3.10/dist-packages (from azureml-core~=1.58.0->azureml-sdk) (0.5.1)\n",
            "Requirement already satisfied: SecretStorage<4.0.0 in /usr/lib/python3/dist-packages (from azureml-core~=1.58.0->azureml-sdk) (3.3.1)\n",
            "Requirement already satisfied: jsonpickle<4.0.0 in /usr/local/lib/python3.10/dist-packages (from azureml-core~=1.58.0->azureml-sdk) (3.4.2)\n",
            "Requirement already satisfied: contextlib2<22.0.0 in /usr/local/lib/python3.10/dist-packages (from azureml-core~=1.58.0->azureml-sdk) (21.6.0)\n",
            "Requirement already satisfied: docker<8.0.0 in /usr/local/lib/python3.10/dist-packages (from azureml-core~=1.58.0->azureml-sdk) (7.1.0)\n",
            "Requirement already satisfied: PyJWT<3.0.0 in /usr/local/lib/python3.10/dist-packages (from azureml-core~=1.58.0->azureml-sdk) (2.9.0)\n",
            "Requirement already satisfied: adal<=1.2.7,>=1.2.0 in /usr/local/lib/python3.10/dist-packages (from azureml-core~=1.58.0->azureml-sdk) (1.2.7)\n",
            "Requirement already satisfied: pyopenssl<25.0.0 in /usr/local/lib/python3.10/dist-packages (from azureml-core~=1.58.0->azureml-sdk) (24.2.1)\n",
            "Requirement already satisfied: jmespath<2.0.0 in /usr/local/lib/python3.10/dist-packages (from azureml-core~=1.58.0->azureml-sdk) (1.0.1)\n",
            "Requirement already satisfied: azureml-dataprep<5.2.0a,>=5.1.0a in /usr/local/lib/python3.10/dist-packages (from azureml-dataset-runtime~=1.58.0->azureml-dataset-runtime[fuse]~=1.58.0->azureml-sdk) (5.1.6)\n",
            "Requirement already satisfied: pyarrow>=0.17.0 in /usr/local/lib/python3.10/dist-packages (from azureml-dataset-runtime~=1.58.0->azureml-dataset-runtime[fuse]~=1.58.0->azureml-sdk) (17.0.0)\n",
            "Requirement already satisfied: numpy!=1.19.3,<1.24 in /usr/local/lib/python3.10/dist-packages (from azureml-dataset-runtime~=1.58.0->azureml-dataset-runtime[fuse]~=1.58.0->azureml-sdk) (1.23.5)\n",
            "Collecting fusepy<4.0.0,>=3.0.1 (from azureml-dataset-runtime[fuse]~=1.58.0->azureml-sdk)\n",
            "  Using cached fusepy-3.0.1.tar.gz (11 kB)\n",
            "  Preparing metadata (setup.py) ... \u001b[?25l\u001b[?25hdone\n",
            "Requirement already satisfied: azureml-pipeline-core~=1.58.0 in /usr/local/lib/python3.10/dist-packages (from azureml-pipeline~=1.58.0->azureml-sdk) (1.58.0)\n",
            "Requirement already satisfied: azureml-pipeline-steps~=1.58.0 in /usr/local/lib/python3.10/dist-packages (from azureml-pipeline~=1.58.0->azureml-sdk) (1.58.0)\n",
            "Requirement already satisfied: azureml-automl-core~=1.58.0 in /usr/local/lib/python3.10/dist-packages (from azureml-train-automl-client~=1.58.0->azureml-sdk) (1.58.0)\n",
            "Requirement already satisfied: azureml-telemetry~=1.58.0 in /usr/local/lib/python3.10/dist-packages (from azureml-train-automl-client~=1.58.0->azureml-sdk) (1.58.0)\n",
            "Requirement already satisfied: azureml-train-restclients-hyperdrive~=1.58.0 in /usr/local/lib/python3.10/dist-packages (from azureml-train-core~=1.58.0->azureml-sdk) (1.58.0)\n",
            "Requirement already satisfied: cryptography>=1.1.0 in /usr/local/lib/python3.10/dist-packages (from adal<=1.2.7,>=1.2.0->azureml-core~=1.58.0->azureml-sdk) (43.0.3)\n",
            "Requirement already satisfied: six>=1.11.0 in /usr/local/lib/python3.10/dist-packages (from azure-core<2.0.0->azureml-core~=1.58.0->azureml-sdk) (1.16.0)\n",
            "Requirement already satisfied: typing-extensions>=4.6.0 in /usr/local/lib/python3.10/dist-packages (from azure-core<2.0.0->azureml-core~=1.58.0->azureml-sdk) (4.12.2)\n",
            "Requirement already satisfied: isodate<1.0.0,>=0.6.1 in /usr/local/lib/python3.10/dist-packages (from azure-mgmt-authorization<5,>=0.40.0->azureml-core~=1.58.0->azureml-sdk) (0.7.2)\n",
            "Requirement already satisfied: azure-mgmt-core<2.0.0,>=1.3.2 in /usr/local/lib/python3.10/dist-packages (from azure-mgmt-authorization<5,>=0.40.0->azureml-core~=1.58.0->azureml-sdk) (1.5.0)\n",
            "Requirement already satisfied: importlib-metadata<=8.2.0 in /usr/local/lib/python3.10/dist-packages (from azureml-automl-core~=1.58.0->azureml-train-automl-client~=1.58.0->azureml-sdk) (8.2.0)\n",
            "Requirement already satisfied: importlib-resources<=6.4.0 in /usr/local/lib/python3.10/dist-packages (from azureml-automl-core~=1.58.0->azureml-train-automl-client~=1.58.0->azureml-sdk) (6.4.0)\n",
            "Requirement already satisfied: azureml-dataprep-native<42.0.0,>=41.0.0 in /usr/local/lib/python3.10/dist-packages (from azureml-dataprep<5.2.0a,>=5.1.0a->azureml-dataset-runtime~=1.58.0->azureml-dataset-runtime[fuse]~=1.58.0->azureml-sdk) (41.0.0)\n",
            "Requirement already satisfied: azureml-dataprep-rslex~=2.22.2dev0 in /usr/local/lib/python3.10/dist-packages (from azureml-dataprep<5.2.0a,>=5.1.0a->azureml-dataset-runtime~=1.58.0->azureml-dataset-runtime[fuse]~=1.58.0->azureml-sdk) (2.22.5)\n",
            "Requirement already satisfied: cloudpickle<3.0.0,>=1.1.0 in /usr/local/lib/python3.10/dist-packages (from azureml-dataprep<5.2.0a,>=5.1.0a->azureml-dataset-runtime~=1.58.0->azureml-dataset-runtime[fuse]~=1.58.0->azureml-sdk) (2.2.1)\n",
            "Requirement already satisfied: azure-identity>=1.7.0 in /usr/local/lib/python3.10/dist-packages (from azureml-dataprep<5.2.0a,>=5.1.0a->azureml-dataset-runtime~=1.58.0->azureml-dataset-runtime[fuse]~=1.58.0->azureml-sdk) (1.19.0)\n",
            "Requirement already satisfied: jsonschema in /usr/local/lib/python3.10/dist-packages (from azureml-dataprep<5.2.0a,>=5.1.0a->azureml-dataset-runtime~=1.58.0->azureml-dataset-runtime[fuse]~=1.58.0->azureml-sdk) (4.23.0)\n",
            "Requirement already satisfied: pyyaml<7.0.0,>=5.1.0 in /usr/local/lib/python3.10/dist-packages (from azureml-dataprep<5.2.0a,>=5.1.0a->azureml-dataset-runtime~=1.58.0->azureml-dataset-runtime[fuse]~=1.58.0->azureml-sdk) (6.0.2)\n",
            "Requirement already satisfied: applicationinsights in /usr/local/lib/python3.10/dist-packages (from azureml-telemetry~=1.58.0->azureml-train-automl-client~=1.58.0->azureml-sdk) (0.11.10)\n",
            "Requirement already satisfied: pygments in /usr/local/lib/python3.10/dist-packages (from knack<0.13.0->azureml-core~=1.58.0->azureml-sdk) (2.18.0)\n",
            "Requirement already satisfied: tabulate in /usr/local/lib/python3.10/dist-packages (from knack<0.13.0->azureml-core~=1.58.0->azureml-sdk) (0.9.0)\n",
            "Requirement already satisfied: portalocker<3,>=1.4 in /usr/local/lib/python3.10/dist-packages (from msal-extensions<=2.0.0,>=0.3.0->azureml-core~=1.58.0->azureml-sdk) (2.10.1)\n",
            "Requirement already satisfied: certifi>=2017.4.17 in /usr/local/lib/python3.10/dist-packages (from msrest<=0.7.1,>=0.5.1->azureml-core~=1.58.0->azureml-sdk) (2024.8.30)\n",
            "Requirement already satisfied: requests-oauthlib>=0.5.0 in /usr/local/lib/python3.10/dist-packages (from msrest<=0.7.1,>=0.5.1->azureml-core~=1.58.0->azureml-sdk) (1.3.1)\n",
            "Requirement already satisfied: pyasn1>=0.1.1 in /usr/local/lib/python3.10/dist-packages (from ndg-httpsclient<=0.5.1->azureml-core~=1.58.0->azureml-sdk) (0.6.1)\n",
            "Requirement already satisfied: bcrypt>=3.2 in /usr/local/lib/python3.10/dist-packages (from paramiko<4.0.0,>=2.0.8->azureml-core~=1.58.0->azureml-sdk) (4.2.0)\n",
            "Requirement already satisfied: pynacl>=1.5 in /usr/local/lib/python3.10/dist-packages (from paramiko<4.0.0,>=2.0.8->azureml-core~=1.58.0->azureml-sdk) (1.5.0)\n",
            "Requirement already satisfied: charset-normalizer<4,>=2 in /usr/local/lib/python3.10/dist-packages (from requests<3.0.0,>=2.19.1->requests[socks]<3.0.0,>=2.19.1->azureml-core~=1.58.0->azureml-sdk) (3.4.0)\n",
            "Requirement already satisfied: idna<4,>=2.5 in /usr/local/lib/python3.10/dist-packages (from requests<3.0.0,>=2.19.1->requests[socks]<3.0.0,>=2.19.1->azureml-core~=1.58.0->azureml-sdk) (3.10)\n",
            "Requirement already satisfied: PySocks!=1.5.7,>=1.5.6 in /usr/local/lib/python3.10/dist-packages (from requests[socks]<3.0.0,>=2.19.1->azureml-core~=1.58.0->azureml-sdk) (1.7.1)\n",
            "Requirement already satisfied: backports.weakref in /usr/local/lib/python3.10/dist-packages (from backports.tempfile->azureml-core~=1.58.0->azureml-sdk) (1.0.post1)\n",
            "Requirement already satisfied: cffi>=1.12 in /usr/local/lib/python3.10/dist-packages (from cryptography>=1.1.0->adal<=1.2.7,>=1.2.0->azureml-core~=1.58.0->azureml-sdk) (1.17.1)\n",
            "Requirement already satisfied: zipp>=0.5 in /usr/local/lib/python3.10/dist-packages (from importlib-metadata<=8.2.0->azureml-automl-core~=1.58.0->azureml-train-automl-client~=1.58.0->azureml-sdk) (3.20.2)\n",
            "Requirement already satisfied: oauthlib>=3.0.0 in /usr/local/lib/python3.10/dist-packages (from requests-oauthlib>=0.5.0->msrest<=0.7.1,>=0.5.1->azureml-core~=1.58.0->azureml-sdk) (3.2.2)\n",
            "Requirement already satisfied: attrs>=22.2.0 in /usr/local/lib/python3.10/dist-packages (from jsonschema->azureml-dataprep<5.2.0a,>=5.1.0a->azureml-dataset-runtime~=1.58.0->azureml-dataset-runtime[fuse]~=1.58.0->azureml-sdk) (24.2.0)\n",
            "Requirement already satisfied: jsonschema-specifications>=2023.03.6 in /usr/local/lib/python3.10/dist-packages (from jsonschema->azureml-dataprep<5.2.0a,>=5.1.0a->azureml-dataset-runtime~=1.58.0->azureml-dataset-runtime[fuse]~=1.58.0->azureml-sdk) (2024.10.1)\n",
            "Requirement already satisfied: referencing>=0.28.4 in /usr/local/lib/python3.10/dist-packages (from jsonschema->azureml-dataprep<5.2.0a,>=5.1.0a->azureml-dataset-runtime~=1.58.0->azureml-dataset-runtime[fuse]~=1.58.0->azureml-sdk) (0.35.1)\n",
            "Requirement already satisfied: rpds-py>=0.7.1 in /usr/local/lib/python3.10/dist-packages (from jsonschema->azureml-dataprep<5.2.0a,>=5.1.0a->azureml-dataset-runtime~=1.58.0->azureml-dataset-runtime[fuse]~=1.58.0->azureml-sdk) (0.21.0)\n",
            "Requirement already satisfied: pycparser in /usr/local/lib/python3.10/dist-packages (from cffi>=1.12->cryptography>=1.1.0->adal<=1.2.7,>=1.2.0->azureml-core~=1.58.0->azureml-sdk) (2.22)\n",
            "Downloading azureml_sdk-1.58.0-py3-none-any.whl (2.7 kB)\n",
            "Building wheels for collected packages: fusepy\n",
            "  Building wheel for fusepy (setup.py) ... \u001b[?25l\u001b[?25hdone\n",
            "  Created wheel for fusepy: filename=fusepy-3.0.1-py3-none-any.whl size=10486 sha256=cbca385d0cafee61ccdce31356dbb1062705b979836ff753a217c0ffbca5044a\n",
            "  Stored in directory: /root/.cache/pip/wheels/c0/18/f6/f0d6be9d0435e2677ce5cc758e91da50053dce456a346f08c5\n",
            "Successfully built fusepy\n",
            "Installing collected packages: fusepy, azureml-sdk\n",
            "Successfully installed azureml-sdk-1.58.0 fusepy-3.0.1\n"
          ]
        }
      ],
      "source": [
        "#We would be using azureml.core library as a Python SDK connect to our Azure Workspace as a client\n",
        "#Restart the session if required\n",
        "\n",
        "!pip install azureml\n",
        "!pip install azureml.core\n",
        "!pip install azureml-dataset-runtime\n",
        "!pip install azureml.pipeline\n",
        "!pip install --upgrade azureml-sdk"
      ]
    },
    {
      "cell_type": "markdown",
      "metadata": {
        "id": "O08N5lcwpw1f"
      },
      "source": [
        "**STEP 6:** **Import all the dependencies**"
      ]
    },
    {
      "cell_type": "markdown",
      "metadata": {
        "id": "76umhLdl0v6j"
      },
      "source": [
        "**Do Not** Forget to Upload all the files linked in this project to the session storage on the left hand side on colab"
      ]
    },
    {
      "cell_type": "code",
      "execution_count": null,
      "metadata": {
        "id": "Zvy-4TUaxTgU"
      },
      "outputs": [],
      "source": [
        "#These libraries are used for uploading, downloading from azure blob storage, registering environemnts,models,datasets\n",
        "from azureml.core import Workspace, Datastore, Dataset, Model, Environment, Experiment\n",
        "\n",
        "#Configuring the environment and the compute for the scripts running in the pipeline\n",
        "from azureml.core.runconfig import RunConfiguration\n",
        "from azureml.core.compute import ComputeTarget, AmlCompute\n",
        "\n",
        "#Initialising pipeline\n",
        "from azureml.pipeline.core import Pipeline, PipelineData, PipelineParameter\n",
        "from azureml.pipeline.steps import PythonScriptStep\n",
        "\n",
        "#To get a published pipeline\n",
        "from azureml.core.authentication import InteractiveLoginAuthentication\n",
        "from azureml.pipeline.core import PublishedPipeline"
      ]
    },
    {
      "cell_type": "markdown",
      "metadata": {
        "id": "75yJ79cmpyOL"
      },
      "source": [
        "**STEP 7:** **Connecting to our workspace**"
      ]
    },
    {
      "cell_type": "code",
      "execution_count": null,
      "metadata": {
        "id": "GUhsm9phzR5y"
      },
      "outputs": [],
      "source": [
        "# Connect to the workspace by specifying subscription ID, resource group, and workspace name\n",
        "workspace = Workspace(subscription_id=\"<your-subsrciption-id>\", #These can be copied by clicking on free trial on top left hand side of the azure portal after launching the studio\n",
        "                      resource_group=\"<your-resource-group-name>\",\n",
        "                      workspace_name=\"your-workspace-name\")\n",
        "\n",
        "\n",
        "print(\"Connection successful\")\n",
        "\n",
        "# Check connection\n",
        "workspace.get_details()\n"
      ]
    },
    {
      "cell_type": "markdown",
      "metadata": {
        "id": "0_gYOVKCpzVd"
      },
      "source": [
        "**STEP 8:** **Upload the existing model (new_model_state_dict.pth)**"
      ]
    },
    {
      "cell_type": "code",
      "execution_count": null,
      "metadata": {
        "id": "enYW1Tgg0bg4"
      },
      "outputs": [],
      "source": [
        "#NOTE : MAKE SURE THAT ALL FILES OF THIS PROJECT HAVE BEEN UPLOADED TO SESSION STORAGE IN COLAB ON THE LEFT HAND SIDE\n",
        "\n",
        "#The upload is done by registering the model on the azure workspace (gets stored there as an artifact)\n",
        "\n",
        "models = Model.list(workspace)\n",
        "\n",
        "#Gets the latest version so far\n",
        "latest_version = max([int(model.tags.get(\"version\")) for model in models], default=0)\n",
        "\n",
        "# Register the model\n",
        "model = Model.register(workspace=workspace,\n",
        "                       model_path=\"/content/new_model_state_dict.pth\",  # Path to your model.pkl file\n",
        "                       model_name=\"new_model_state_dict.pth\",\n",
        "                       description=\"Model version 1\",\n",
        "                       tags={\"version\": f\"{latest_version+1}\" , \"deployed\": \"true\"})\n",
        "\n",
        "print(f\"Model registered: {model.name}, Version: {model.version}\")"
      ]
    },
    {
      "cell_type": "markdown",
      "metadata": {
        "id": "d_OHjg-Yp0oT"
      },
      "source": [
        "**STEP 9:** **Upload the vocab.txt file**"
      ]
    },
    {
      "cell_type": "code",
      "execution_count": null,
      "metadata": {
        "id": "2OD2SVC49Opj"
      },
      "outputs": [],
      "source": [
        "#We will upload by registering it as a dataset (artifact) as well as uploading it in Azure Blob Storage\n",
        "\n",
        "# Get the default datastore for the workspace\n",
        "datastore = workspace.get_default_datastore()\n",
        "\n",
        "# Upload the vocab.txt file to the datastore\n",
        "datastore.upload_files(files=[\"/content/vocab.txt\"],\n",
        "                       target_path=\"vocab_data/\",  # Folder in the datastore where the file will be stored\n",
        "                       overwrite=True)\n",
        "\n",
        "# Register the file as a dataset in the workspace (optional)\n",
        "vocab_dataset = Dataset.File.from_files((datastore, \"vocab_data/vocab.txt\"))\n",
        "vocab_dataset = vocab_dataset.register(workspace=workspace,\n",
        "                                       name=\"vocab_dataset\",\n",
        "                                       description=\"Vocabulary file\",\n",
        "                                       create_new_version=True)\n",
        "\n",
        "print(\"File uploaded and registered as dataset.\")"
      ]
    },
    {
      "cell_type": "markdown",
      "metadata": {
        "id": "gZHNsmT8p1tM"
      },
      "source": [
        "**STEP 10:** **Upload the Sample Dataset File**"
      ]
    },
    {
      "cell_type": "code",
      "execution_count": null,
      "metadata": {
        "id": "3P_OCMVw9mqa"
      },
      "outputs": [],
      "source": [
        "#Refer to the format of the dataset file for custom dataset csv files\n",
        "\n",
        "# Get the default datastore (usually points to Azure Blob Storage)\n",
        "blob_datastore = workspace.get_default_datastore()\n",
        "\n",
        "# Upload dataset.csv to Blob Storage in a specific folder\n",
        "blob_datastore.upload_files(files=[\"/content/dataset.csv\"], #Our dataset file name is dataset.csv, it could be anything as long as everything in the codes in consistent\n",
        "                            target_path=\"datasets/\",   # Folder in Blob Storage\n",
        "                            overwrite=True)\n",
        "\n",
        "print(\"File uploaded to Azure Blob Storage.\")\n",
        "#You can always check out the blob storage in the Data Section in the Azure Machine Learning Studio"
      ]
    },
    {
      "cell_type": "markdown",
      "metadata": {
        "id": "d1pOLcuaOPIE"
      },
      "source": [
        "**STEP 11:** **Changes in score.py**"
      ]
    },
    {
      "cell_type": "markdown",
      "metadata": {
        "id": "roZQa42ZOXgd"
      },
      "source": [
        "1)Go to Microsoft Azure Home, click on Storage Accounts, select your storage account (refer step 3) , on Left hand side, click on Data Storage->Containers->Container name with prefix \"azureml-blobstore\"\n",
        "Then copy the entire title with the prefix \"azureml-blobstore\" and paste it in the \"container_name\" variable in score.py\n",
        "\n",
        "2)Go to Microsoft Azure Home, click on Storage Accounts, select your storage account (refer step 3) , on Left hand side, click on Security+networking->Access keys , then click on \"show\" for any connection string and then copy it and paste it in \"connection_string\" variable in score.py"
      ]
    },
    {
      "cell_type": "markdown",
      "source": [
        "**Changes in script1.py, script2.py, script3.py, script4.py**\n",
        "\n",
        "In the files, make change in these lines of code:  \n",
        "\n",
        "\n",
        "    workspace = Workspace(subscription_id=<your-subscripton-id>,\n",
        "                          resource_group=<your-resource-group-name>,\n",
        "                          workspace_name=<your-workspace-name>)   \n",
        "                      \n",
        "  corresponding to your own subscription id, resource_grp and workspace_name"
      ],
      "metadata": {
        "id": "TJvdpKKRQxoV"
      }
    },
    {
      "cell_type": "markdown",
      "metadata": {
        "id": "80PnVhKep3Qb"
      },
      "source": [
        "**STEP 12:** **Registering a New Environment for the pipeline**"
      ]
    },
    {
      "cell_type": "code",
      "execution_count": null,
      "metadata": {
        "id": "2Hswbbhd-tew"
      },
      "outputs": [],
      "source": [
        "# Load the environment from your .yml file\n",
        "#NOTE: This yml file is according to the scripts used in this pipeline, if some other scripts are used, then make sure to include all dependencies in the env.yml file\n",
        "env = Environment.from_conda_specification(name=\"pipeline-env\", file_path=\"/content/env.yml\")\n",
        "\n",
        "# Register the environment (without the version argument)\n",
        "env.register(workspace=workspace) #It will automatically take care of the version in case the environment name is same"
      ]
    },
    {
      "cell_type": "markdown",
      "metadata": {
        "id": "9eMXXwAHp4qr"
      },
      "source": [
        "**STEP 13:** **Loading the Environment**"
      ]
    },
    {
      "cell_type": "code",
      "execution_count": null,
      "metadata": {
        "id": "chbB6kHq_L0O"
      },
      "outputs": [],
      "source": [
        "env=Environment.get(workspace=workspace, name=\"pipeline-env\") #Loading the same registered environment with its name\n",
        "#By default takes the latest version"
      ]
    },
    {
      "cell_type": "markdown",
      "metadata": {
        "id": "H1t0gTQyp51k"
      },
      "source": [
        "**STEP 14:** **Initialising the run_config for pipeline**"
      ]
    },
    {
      "cell_type": "code",
      "execution_count": null,
      "metadata": {
        "id": "f8NCWsTJ_eaa"
      },
      "outputs": [],
      "source": [
        "run_config = RunConfiguration()\n",
        "run_config.environment = env"
      ]
    },
    {
      "cell_type": "markdown",
      "metadata": {
        "id": "prfvX-EJp7Br"
      },
      "source": [
        "**STEP 15:** **Initialising the compute cluster for the pipelines**"
      ]
    },
    {
      "cell_type": "code",
      "execution_count": null,
      "metadata": {
        "id": "lUJXYPyV_m9i"
      },
      "outputs": [],
      "source": [
        "compute_target = ComputeTarget(workspace=workspace, name=\"<name-of-compute-cluster-from-step-4>\")  #Remember the compute cluster that we had initialised in step 4\n",
        "#If you dont remember the name of the cluster, you can always look it up by clicking on the ompute section on the left hand side in the azure machine learning studio"
      ]
    },
    {
      "cell_type": "markdown",
      "metadata": {
        "id": "5rEX5f5-p8Xz"
      },
      "source": [
        "**STEP 16:** **Defining Pipeline Parameters**"
      ]
    },
    {
      "cell_type": "code",
      "execution_count": null,
      "metadata": {
        "id": "dwo_Ml1rAasa"
      },
      "outputs": [],
      "source": [
        "# Define data paths\n",
        "processed_data = PipelineData(\"processed_data\", datastore=workspace.get_default_datastore()) #Output of script1.py and input to script2.py\n",
        "processed_data2 = PipelineData(\"processed_data2\", datastore=workspace.get_default_datastore())  # Output of script2.py and input to script3.py\n",
        "\n",
        "# Define dataset name parameter for the pipeline\n",
        "dataset_name_param = PipelineParameter(name=\"dataset_name\", default_value=\"dataset.csv\") #input to script1.py"
      ]
    },
    {
      "cell_type": "markdown",
      "metadata": {
        "id": "srcf1CMYp93S"
      },
      "source": [
        "**STEP 17:** **Creating and Publishing the CI Pipeline**"
      ]
    },
    {
      "cell_type": "code",
      "execution_count": null,
      "metadata": {
        "id": "RaPL5BG3A6Qe"
      },
      "outputs": [],
      "source": [
        "#DEFINING THE STEPS OF CI PIPELINE\n",
        "\n",
        "# Step 1: Run script1 (data preprocessing)\n",
        "script1_step = PythonScriptStep(\n",
        "    name=\"Data_Preprocessing\",\n",
        "    script_name=\"script1.py\",\n",
        "    arguments=[\"--dataset_name\", dataset_name_param,\"--processed_data\",processed_data],\n",
        "    outputs=[processed_data],\n",
        "    compute_target=compute_target,\n",
        "    runconfig=run_config,\n",
        "    source_directory=\"/content\"  # Ensure this is the correct path\n",
        ")\n",
        "\n",
        "# Step 2: Run script2 (model training and registration)\n",
        "script2_step = PythonScriptStep(\n",
        "    name=\"Model_Training\",\n",
        "    script_name=\"script2.py\",\n",
        "    arguments=[\"--processed_data\", processed_data,\"--processed_data2\",processed_data2],\n",
        "    inputs=[processed_data],\n",
        "    outputs=[processed_data2],  # This should be a different output, not the same as input\n",
        "    compute_target=compute_target,\n",
        "    runconfig=run_config,\n",
        "    source_directory=\"/content\"  # Ensure this is the correct path\n",
        ")\n",
        "\n",
        "# Step 3: Run script3 (evaluation and tagging)\n",
        "script3_step = PythonScriptStep(\n",
        "    name=\"Model_Evaluation_and_Tagging\",\n",
        "    script_name=\"script3.py\",\n",
        "    arguments=[\"--processed_data2\",processed_data2],\n",
        "    inputs=[processed_data2],\n",
        "    compute_target=compute_target,\n",
        "    runconfig=run_config,\n",
        "    source_directory=\"/content\"  # Ensure this is the correct path\n",
        ")\n",
        "\n",
        "# CREATING THE CI PIPELINE FROM THE STEPS\n",
        "ci_pipeline = Pipeline(workspace=workspace, steps=[script1_step, script2_step, script3_step])\n",
        "\n",
        "# Validate the pipeline\n",
        "ci_pipeline.validate()\n",
        "\n",
        "# PUBLISHING THE CI PIPELINE\n",
        "ci_pipeline.publish(name=\"CI_Pipeline\", description=\"CI pipeline for model training and evaluation.\")\n",
        "\n",
        "\n",
        "\n",
        "#WHILE RUNNING THIS CELL, YOU NEED TO GO TO AZURE MACHINE LEARNING STUDIO (Review step 4) and CLICK ON PIPELINES SECTION ON LEFT HAND SIDE, CLICK ON THE LATEST JOB THAT SHOWS RUNNING AND DOUBLE CLICK ON THE BLOCK OF PIPELINE THAT SHOWS RUNNING AND GO TO OUTPUTS+LOGS SECTION AND REFRESH UNTIL YOU SEE USER LOGS, THEN CLICK ON std_log.txt and refresh UNTIL A LINK WITH A CODE APPEARS, GO TO THE LINK AND PASTE THE CODE.\n",
        "#THE ABOVE STEP HAS TO BE REPEATED FOR ALL THE BLOCKS OF THE PIPELINES\n",
        "#This is a One Time authentication required by the pipelines to access your resources like azure blob storage"
      ]
    },
    {
      "cell_type": "markdown",
      "metadata": {
        "id": "4aJVrrjcp-9L"
      },
      "source": [
        "**STEP 18:** **Creating and Publishing the CD Pipeline**"
      ]
    },
    {
      "cell_type": "code",
      "execution_count": null,
      "metadata": {
        "id": "mIWF54DXBmOy"
      },
      "outputs": [],
      "source": [
        "# Step 4: Run script4 (deployment)\n",
        "script4_step = PythonScriptStep(\n",
        "    name=\"Model_Deployment\",\n",
        "    script_name=\"script4.py\",\n",
        "    compute_target=compute_target,\n",
        "    runconfig=run_config,\n",
        "    source_directory=\"/content\"\n",
        ")\n",
        "\n",
        "# Create CD pipeline\n",
        "cd_pipeline = Pipeline(workspace=workspace, steps=[script4_step])\n",
        "cd_pipeline.validate()\n",
        "\n",
        "# Publish the CD pipeline\n",
        "cd_pipeline.publish(name=\"CD_Pipeline\", description=\"CD pipeline for model deployment.\")\n",
        "\n",
        "\n",
        "#WHILE RUNNING THIS CELL, YOU NEED TO GO TO AZURE MACHINE LEARNING STUDIO (Review step 4) and CLICK ON PIPELINES SECTION ON LEFT HAND SIDE, CLICK ON THE LATEST JOB THAT SHOWS RUNNING AND DOUBLE CLICK ON THE BLOCK OF PIPELINE THAT SHOWS RUNNING AND GO TO OUTPUTS+LOGS SECTION AND REFRESH UNTIL YOU SEE USER LOGS, THEN CLICK ON std_log.txt and refresh UNTIL A LINK WITH A CODE APPEARS, GO TO THE LINK AND PASTE THE CODE.\n",
        "#This is a One Time authentication required by the pipelines to access your resources like azure blob storage"
      ]
    },
    {
      "cell_type": "markdown",
      "metadata": {
        "id": "MHXV1q3EqARb"
      },
      "source": [
        "**STEP 19:** **Getting the Published Pipelines to run them**"
      ]
    },
    {
      "cell_type": "code",
      "execution_count": null,
      "metadata": {
        "id": "GzT7i9a3ln8Q"
      },
      "outputs": [],
      "source": [
        "# Authentication\n",
        "interactive_auth = InteractiveLoginAuthentication()\n",
        "datastore = workspace.get_default_datastore()\n",
        "\n",
        "# Reference to published CI and CD pipelines by their name\n",
        "def get_pipeline_by_name(workspace, pipeline_name):\n",
        "\n",
        "    # List all published pipelines and find the one by name\n",
        "    published_pipelines = PublishedPipeline.list(workspace)\n",
        "    for pipeline in published_pipelines:\n",
        "        if pipeline.name == pipeline_name:\n",
        "            return pipeline\n",
        "    raise ValueError(f\"Pipeline with name '{pipeline_name}' not found.\")\n",
        "\n",
        "# Get the reference to published CI and CD pipelines\n",
        "ci_pipeline_published = get_pipeline_by_name(workspace=workspace, pipeline_name=\"CI_Pipeline\")\n",
        "cd_pipeline_published = get_pipeline_by_name(workspace=workspace, pipeline_name=\"CD_Pipeline\")"
      ]
    },
    {
      "cell_type": "markdown",
      "metadata": {
        "id": "sl6mLjPcCQY_"
      },
      "source": [
        "**STEP 20:** **Calling a function MLOps() to run the pipelines**"
      ]
    },
    {
      "cell_type": "code",
      "execution_count": null,
      "metadata": {
        "id": "mOW3yWTiCWLl"
      },
      "outputs": [],
      "source": [
        "def MLOps(name_of_the_dataset):\n",
        "\n",
        "    # Run CI pipeline with dynamic dataset name parameter\n",
        "    ci_run = ci_pipeline_published.submit(\n",
        "        workspace,\n",
        "        experiment_name=\"CI_Pipeline_Run\",\n",
        "        pipeline_parameters={\"dataset_name\": name_of_the_dataset}\n",
        "    )\n",
        "    ci_run.wait_for_completion()\n",
        "\n",
        "    # Specify the path in the datastore\n",
        "    file_path = 'outputs/ci_output_status.txt'\n",
        "\n",
        "    # Download the file from the datastore to your local machine\n",
        "    local_path = './'  # Local path where you want to store the file\n",
        "\n",
        "\n",
        "    #Downloading the output of the CI pipeline\n",
        "    datastore.download(target_path=local_path, prefix=file_path, overwrite=True)\n",
        "\n",
        "    # Check if CI pipeline run succeeded\n",
        "    if ci_run.get_status() == \"Finished\":\n",
        "\n",
        "        # Load the CI output status from the file created in script3\n",
        "        with open(\"./outputs/ci_output_status.txt\", \"r\") as f:\n",
        "            ci_output = f.read().strip() == \"True\"\n",
        "\n",
        "        if ci_output:\n",
        "\n",
        "            # Run CD pipeline if new model is better than the deployed model\n",
        "            cd_run = cd_pipeline_published.submit(workspace, experiment_name=\"CD_Pipeline_Run\")\n",
        "            cd_run.wait_for_completion()\n",
        "            print(\"Model successfully deployed.\")\n",
        "\n",
        "        else:\n",
        "            print(\"Model evaluation did not pass. CD pipeline will not run.\")\n",
        "    else:\n",
        "        print(\"CI pipeline failed, stopping deployment.\")\n",
        "\n",
        "\n",
        "\n",
        "\n",
        "\n",
        "MLOps(\"dataset.csv\")  #Here you can put the name of the dataset that you had uploaded\n",
        "\n",
        "\n",
        "\n",
        "#WHILE RUNNING THIS CELL FOR THE FIRST TIME, YOU NEED TO GO TO AZURE MACHINE LEARNING STUDIO (Review step 4) and CLICK ON PIPELINES SECTION ON LEFT HAND SIDE, CLICK ON THE LATEST JOB THAT SHOWS RUNNING AND DOUBLE CLICK ON THE BLOCK OF PIPELINE THAT SHOWS RUNNING AND GO TO OUTPUTS+LOGS SECTION AND REFRESH UNTIL YOU SEE USER LOGS, THEN CLICK ON std_log.txt and refresh UNTIL A LINK WITH A CODE APPEARS, GO TO THE LINK AND PASTE THE CODE.\n",
        "#THE ABOVE STEP HAS TO BE REPEATED FOR ALL THE BLOCKS OF THE PIPELINES\n",
        "#This is a One Time authentication required by the pipelines when run for the first time to access your resources like azure blob storage."
      ]
    },
    {
      "cell_type": "markdown",
      "metadata": {
        "id": "o8uV-yEAMRBo"
      },
      "source": [
        "You can now view your deployment on **Azure Machine Learning Studio** (Review Step 4), click on the **Endpoints Section** on the left hand side, and click on **sentiment-analyser-endpoint**, and view your API Endpoint"
      ]
    },
    {
      "cell_type": "markdown",
      "metadata": {
        "id": "M6qe-tWQM4m-"
      },
      "source": [
        "**Incoming JSON Data File Format** : {\"input_text\" : \"a sample text or a review here\"}\n",
        "\n",
        "**Output JSON Data File Format** : {\"prediction\" : 0 or 1} 0 for positive and 1 for Negative Review"
      ]
    }
  ],
  "metadata": {
    "colab": {
      "provenance": [],
      "authorship_tag": "ABX9TyPJNgbfZcEWLNd7ZG8HgyWO",
      "include_colab_link": true
    },
    "kernelspec": {
      "display_name": "Python 3",
      "name": "python3"
    },
    "language_info": {
      "name": "python"
    }
  },
  "nbformat": 4,
  "nbformat_minor": 0
}